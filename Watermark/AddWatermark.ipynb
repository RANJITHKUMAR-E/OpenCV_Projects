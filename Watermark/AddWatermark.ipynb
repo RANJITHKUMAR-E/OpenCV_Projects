{
 "cells": [
  {
   "cell_type": "code",
   "execution_count": 1,
   "metadata": {},
   "outputs": [
    {
     "name": "stdout",
     "output_type": "stream",
     "text": [
      "480 640\n",
      "Photo clicked successfully !!\n"
     ]
    }
   ],
   "source": [
    "from multiprocessing.connection import wait\n",
    "from traceback import print_tb\n",
    "from cv2 import waitKey\n",
    "import datetime\n",
    "import cv2\n",
    "from cv2 import imread\n",
    "\n",
    "cap=cv2.VideoCapture(0)\n",
    "\n",
    "if not cap.isOpened():\n",
    "    raise IOError(\"Webcam not found !!\")\n",
    "\n",
    "frame_width = int(cap.get(3))\n",
    "frame_height = int(cap.get(4))\n",
    "   \n",
    "size = (frame_width, frame_height)\n",
    "   \n",
    "while True:\n",
    "    ret,frames=cap.read(0)\n",
    "    # frames=cv2.flip(frames,0)\n",
    "    cv2.imshow(\"Camera <Click c to catch> \",frames)\n",
    "\n",
    "    if cv2.waitKey(1) & 0xFF ==ord('c'):\n",
    "        cv2.imwrite(\"Clicked.jpg\",frames)\n",
    "\n",
    "        img=imread(\"Clicked.jpg\")\n",
    "        (h,w,d)=img.shape\n",
    "        print(h,w)\n",
    "\n",
    "        time=datetime.datetime.now()\n",
    "        time=time.strftime(\"%d/%m/%Y %H:%M:%S\")\n",
    "\n",
    "        cv2.putText(img=img,text=time,org=(int(w-(w*60/100)),int(h-(h*10/100))),fontFace=cv2.FONT_HERSHEY_TRIPLEX, fontScale=1, color=(255, 255, 255),thickness=2)\n",
    "        cv2.imshow(\"img\",img)\n",
    "        cv2.waitKey(2000)\n",
    "        cv2.imwrite(\"Clicked.jpg\",img)\n",
    "        print(\"Photo clicked successfully !!\")\n",
    "        break\n",
    "\n",
    "cv2.destroyAllWindows()\n",
    "cap.release()"
   ]
  },
  {
   "cell_type": "code",
   "execution_count": 2,
   "metadata": {},
   "outputs": [
    {
     "name": "stdout",
     "output_type": "stream",
     "text": [
      "480 640\n"
     ]
    }
   ],
   "source": [
    "import cv2\n",
    "from cv2 import imread\n",
    "import datetime\n",
    "import numpy as np\n",
    "import matplotlib.pyplot as plt\n",
    "\n",
    "img=imread(\"Clicked.jpg\")\n",
    "(h,w,d)=img.shape\n",
    "print(h,w)\n",
    "\n",
    "time=datetime.datetime.now()\n",
    "time=time.strftime(\"%d/%m/%Y %H:%M:%S\")\n",
    "\n",
    "cv2.putText(img,text=time,org=(int(w-(w*60/100)),int(h-(h*10/100))),fontFace=cv2.FONT_HERSHEY_TRIPLEX, fontScale=1, color=(255, 255, 255),thickness=2)\n",
    "cv2.imshow(\"Output\",img)\n",
    "cv2.waitKey(2000)\n",
    "\n",
    "cv2.destroyAllWindows()\n"
   ]
  },
  {
   "cell_type": "code",
   "execution_count": null,
   "metadata": {},
   "outputs": [],
   "source": []
  }
 ],
 "metadata": {
  "kernelspec": {
   "display_name": "Python 3.10.7 64-bit",
   "language": "python",
   "name": "python3"
  },
  "language_info": {
   "codemirror_mode": {
    "name": "ipython",
    "version": 3
   },
   "file_extension": ".py",
   "mimetype": "text/x-python",
   "name": "python",
   "nbconvert_exporter": "python",
   "pygments_lexer": "ipython3",
   "version": "3.10.7"
  },
  "orig_nbformat": 4,
  "vscode": {
   "interpreter": {
    "hash": "31671a60cee805c34c73116577b485118ff3a75c458d3004d49632c19702ac60"
   }
  }
 },
 "nbformat": 4,
 "nbformat_minor": 2
}
