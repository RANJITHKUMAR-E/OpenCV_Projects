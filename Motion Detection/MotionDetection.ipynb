{
 "cells": [
  {
   "cell_type": "code",
   "execution_count": 1,
   "metadata": {},
   "outputs": [],
   "source": [
    "import cv2 as cv\n",
    "import numpy as np\n",
    "from matplotlib import pyplot as plt\n",
    "\n",
    "def motionDetection():\n",
    "    cap = cv.VideoCapture(\"theftDetect.mp4\")\n",
    "    ret, frame1 = cap.read()\n",
    "    ret, frame2 = cap.read()\n",
    "\n",
    "    while cap.isOpened():\n",
    "        diff = cv.absdiff(frame1, frame2)\n",
    "        diff_gray = cv.cvtColor(diff, cv.COLOR_BGR2GRAY)\n",
    "        blur = cv.GaussianBlur(diff_gray, (5, 5), 0)\n",
    "        _, thresh = cv.threshold(blur, 20, 255, cv.THRESH_BINARY)\n",
    "        dilated = cv.dilate(thresh, None, iterations=3)\n",
    "        contours, _ = cv.findContours(dilated, cv.RETR_TREE, cv.CHAIN_APPROX_SIMPLE)\n",
    "\n",
    "        w1,h1=blur.shape\n",
    "        for contour in contours:\n",
    "            (x, y, w, h) = cv.boundingRect(contour)\n",
    "            if cv.contourArea(contour) < h1/2:\n",
    "                continue\n",
    "            cv.rectangle(frame1, (x, y), (x+w, y+h), (0, 255, 0), 1)\n",
    "            cv.putText(frame1, \" {}\".format('ALERT'), (10, 20), cv.FONT_HERSHEY_SIMPLEX,1, (0, 0, 255), 3)\n",
    "\n",
    "        # cv.drawContours(frame1, contours, -1, (0, 255, 0), 2)\n",
    "\n",
    "        cv.imshow(\"Video\", frame1)\n",
    "\n",
    "        frame1 = frame2\n",
    "        ret, frame2 = cap.read(0)\n",
    "\n",
    "        if cv.waitKey(1) & 0xFF ==ord('q'):\n",
    "            cv.destroyAllWindows()        \n",
    "            break\n",
    "        if (cv.waitKey(30) == 27):\n",
    "      # out.release()\n",
    "            break\n",
    "\n",
    "    cap.release()\n",
    "    cv.destroyAllWindows()\n",
    "\n",
    "if __name__ == \"__main__\":\n",
    "    motionDetection()"
   ]
  },
  {
   "cell_type": "code",
   "execution_count": null,
   "metadata": {},
   "outputs": [],
   "source": []
  }
 ],
 "metadata": {
  "kernelspec": {
   "display_name": "Python 3.10.7 64-bit",
   "language": "python",
   "name": "python3"
  },
  "language_info": {
   "codemirror_mode": {
    "name": "ipython",
    "version": 3
   },
   "file_extension": ".py",
   "mimetype": "text/x-python",
   "name": "python",
   "nbconvert_exporter": "python",
   "pygments_lexer": "ipython3",
   "version": "3.10.7"
  },
  "orig_nbformat": 4,
  "vscode": {
   "interpreter": {
    "hash": "31671a60cee805c34c73116577b485118ff3a75c458d3004d49632c19702ac60"
   }
  }
 },
 "nbformat": 4,
 "nbformat_minor": 2
}
